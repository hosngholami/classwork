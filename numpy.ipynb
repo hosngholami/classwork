{
 "cells": [
  {
   "cell_type": "code",
   "execution_count": 1,
   "id": "221d3195-944d-4b85-b948-deaa4df93f7b",
   "metadata": {},
   "outputs": [],
   "source": [
    "import numpy as np"
   ]
  },
  {
   "cell_type": "code",
   "execution_count": 2,
   "id": "466a18c1-cb06-4a97-ba2e-42a0897f88d8",
   "metadata": {},
   "outputs": [],
   "source": [
    "images = np.array([\n",
    "    [[1, 2, 3], [4, 5, 6], [7, 8, 9], [28, 29, 30]],\n",
    "    [[10, 11, 12], [13, 14, 15], [16, 17, 18], [31, 32, 33]],\n",
    "    [[19, 20, 21], [22, 23, 24], [25, 26, 27], [34, 35, 36]],\n",
    "    \n",
    "])"
   ]
  },
  {
   "cell_type": "code",
   "execution_count": 3,
   "id": "26ad8929-6c68-4d4b-bdf3-eb8e35905b11",
   "metadata": {},
   "outputs": [
    {
     "data": {
      "text/plain": [
       "3"
      ]
     },
     "execution_count": 3,
     "metadata": {},
     "output_type": "execute_result"
    }
   ],
   "source": [
    "images.ndim"
   ]
  },
  {
   "cell_type": "code",
   "execution_count": 4,
   "id": "79bab24a-671e-4229-97fc-124058692bec",
   "metadata": {},
   "outputs": [
    {
     "data": {
      "text/plain": [
       "array([[[ 1,  2,  3],\n",
       "        [ 4,  5,  6],\n",
       "        [ 7,  8,  9],\n",
       "        [28, 29, 30]],\n",
       "\n",
       "       [[10, 11, 12],\n",
       "        [13, 14, 15],\n",
       "        [16, 17, 18],\n",
       "        [31, 32, 33]],\n",
       "\n",
       "       [[19, 20, 21],\n",
       "        [22, 23, 24],\n",
       "        [25, 26, 27],\n",
       "        [34, 35, 36]]])"
      ]
     },
     "execution_count": 4,
     "metadata": {},
     "output_type": "execute_result"
    }
   ],
   "source": [
    "images"
   ]
  },
  {
   "cell_type": "code",
   "execution_count": 5,
   "id": "8decc8d9-e6da-4992-9225-623ef40e792c",
   "metadata": {},
   "outputs": [
    {
     "data": {
      "text/plain": [
       "(3, 4, 3)"
      ]
     },
     "execution_count": 5,
     "metadata": {},
     "output_type": "execute_result"
    }
   ],
   "source": [
    "images.shape"
   ]
  },
  {
   "cell_type": "code",
   "execution_count": 6,
   "id": "60cc0005-7445-4d26-ae03-07ec632d3f20",
   "metadata": {},
   "outputs": [],
   "source": [
    "images = images / 2"
   ]
  },
  {
   "cell_type": "code",
   "execution_count": 7,
   "id": "50116f1f-cc04-4759-b313-a30056db6758",
   "metadata": {},
   "outputs": [
    {
     "data": {
      "text/plain": [
       "array([[[ 0.5,  1. ,  1.5],\n",
       "        [ 2. ,  2.5,  3. ],\n",
       "        [ 3.5,  4. ,  4.5],\n",
       "        [14. , 14.5, 15. ]],\n",
       "\n",
       "       [[ 5. ,  5.5,  6. ],\n",
       "        [ 6.5,  7. ,  7.5],\n",
       "        [ 8. ,  8.5,  9. ],\n",
       "        [15.5, 16. , 16.5]],\n",
       "\n",
       "       [[ 9.5, 10. , 10.5],\n",
       "        [11. , 11.5, 12. ],\n",
       "        [12.5, 13. , 13.5],\n",
       "        [17. , 17.5, 18. ]]])"
      ]
     },
     "execution_count": 7,
     "metadata": {},
     "output_type": "execute_result"
    }
   ],
   "source": [
    "images"
   ]
  },
  {
   "cell_type": "code",
   "execution_count": 8,
   "id": "52875fcb-ad44-4dba-b12c-5ae1220c6478",
   "metadata": {},
   "outputs": [],
   "source": [
    "arr = np.zeros(10)"
   ]
  },
  {
   "cell_type": "code",
   "execution_count": 9,
   "id": "bc02e91c-112e-40cd-8dc7-4eb22f6d662d",
   "metadata": {},
   "outputs": [],
   "source": [
    "arr[9] = 3"
   ]
  },
  {
   "cell_type": "code",
   "execution_count": 10,
   "id": "bf89e968-99f7-4c4b-8a37-81498275b389",
   "metadata": {},
   "outputs": [
    {
     "data": {
      "text/plain": [
       "array([0., 0., 0., 0., 0., 0., 0., 0., 0., 3.])"
      ]
     },
     "execution_count": 10,
     "metadata": {},
     "output_type": "execute_result"
    }
   ],
   "source": [
    "arr"
   ]
  },
  {
   "cell_type": "code",
   "execution_count": 11,
   "id": "3fae7440-d733-42b0-8ac4-175ceea9eb50",
   "metadata": {},
   "outputs": [
    {
     "data": {
      "text/plain": [
       "array([0, 1, 2, 3, 4, 5, 6, 7, 8, 9])"
      ]
     },
     "execution_count": 11,
     "metadata": {},
     "output_type": "execute_result"
    }
   ],
   "source": [
    "T = np.arange(10)\n",
    "T"
   ]
  },
  {
   "cell_type": "code",
   "execution_count": 12,
   "id": "a575e8ff-d076-480d-a7b7-970c44bbbe70",
   "metadata": {},
   "outputs": [
    {
     "data": {
      "text/plain": [
       "array([ 2,  5,  8, 11, 14, 17, 20, 23, 26, 29, 32, 35, 38, 41, 44, 47, 50,\n",
       "       53, 56, 59, 62, 65, 68, 71, 74, 77, 80, 83, 86, 89, 92, 95, 98])"
      ]
     },
     "execution_count": 12,
     "metadata": {},
     "output_type": "execute_result"
    }
   ],
   "source": [
    "r = np.arange(2, 100, 3)\n",
    "r"
   ]
  },
  {
   "cell_type": "code",
   "execution_count": 13,
   "id": "f081b73b-c9ee-43dc-8de0-2c59cc4518a3",
   "metadata": {},
   "outputs": [
    {
     "data": {
      "text/plain": [
       "array([ 0.        ,  8.33333333, 16.66666667, 25.        ])"
      ]
     },
     "execution_count": 13,
     "metadata": {},
     "output_type": "execute_result"
    }
   ],
   "source": [
    "l = np.linspace(0, 25, 4)\n",
    "l"
   ]
  },
  {
   "cell_type": "code",
   "execution_count": 14,
   "id": "7142de7d-3efc-4858-aa3f-69dbf3674690",
   "metadata": {},
   "outputs": [
    {
     "data": {
      "text/plain": [
       "(4, 5)"
      ]
     },
     "execution_count": 14,
     "metadata": {},
     "output_type": "execute_result"
    }
   ],
   "source": [
    "m = np.array([\n",
    "     [0, 1, 2, 3, 4],  \n",
    "     [4, 1, 2, 3, 5],  \n",
    "     [0, 1, 2, 3, 6],  \n",
    "     [0, 1, 2, 3, 7],  \n",
    "])\n",
    "\n",
    "m.shape"
   ]
  },
  {
   "cell_type": "code",
   "execution_count": 16,
   "id": "f1aa6de8-6d97-41cd-9145-c6039c10d5df",
   "metadata": {},
   "outputs": [],
   "source": [
    "j = np.arange(12)"
   ]
  },
  {
   "cell_type": "code",
   "execution_count": 19,
   "id": "dac3f50e-2e0e-40bb-a6ae-a2a8850c72f7",
   "metadata": {},
   "outputs": [
    {
     "data": {
      "text/plain": [
       "array([[ 0,  1],\n",
       "       [ 2,  3],\n",
       "       [ 4,  5],\n",
       "       [ 6,  7],\n",
       "       [ 8,  9],\n",
       "       [10, 11]])"
      ]
     },
     "execution_count": 19,
     "metadata": {},
     "output_type": "execute_result"
    }
   ],
   "source": [
    "j.reshape(6, 2)"
   ]
  },
  {
   "cell_type": "code",
   "execution_count": 21,
   "id": "90fc37d6-4f7b-47e5-976d-3d2029bf5797",
   "metadata": {},
   "outputs": [
    {
     "data": {
      "text/plain": [
       "array([[ 0,  1,  2,  3],\n",
       "       [ 4,  5,  6,  7],\n",
       "       [ 8,  9, 10, 11]])"
      ]
     },
     "execution_count": 21,
     "metadata": {},
     "output_type": "execute_result"
    }
   ],
   "source": [
    "normlize = np.arange(12)\n",
    "normlize.reshape(3, 4)"
   ]
  }
 ],
 "metadata": {
  "kernelspec": {
   "display_name": "Python 3 (ipykernel)",
   "language": "python",
   "name": "python3"
  },
  "language_info": {
   "codemirror_mode": {
    "name": "ipython",
    "version": 3
   },
   "file_extension": ".py",
   "mimetype": "text/x-python",
   "name": "python",
   "nbconvert_exporter": "python",
   "pygments_lexer": "ipython3",
   "version": "3.11.5"
  }
 },
 "nbformat": 4,
 "nbformat_minor": 5
}
