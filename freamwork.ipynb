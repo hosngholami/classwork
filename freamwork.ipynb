{
 "cells": [
  {
   "cell_type": "markdown",
   "id": "e7a6dd09-637a-4565-b237-4f7b1a3c7097",
   "metadata": {},
   "source": [
    "## numpy"
   ]
  },
  {
   "cell_type": "code",
   "execution_count": 99,
   "id": "574795df-4b81-4bb6-a058-be80297b30dd",
   "metadata": {},
   "outputs": [],
   "source": [
    "import pandas as pd"
   ]
  },
  {
   "cell_type": "code",
   "execution_count": 100,
   "id": "651efd2a-7fe5-4858-9b0a-73a05d3b7649",
   "metadata": {},
   "outputs": [],
   "source": [
    "import numpy as np"
   ]
  },
  {
   "cell_type": "markdown",
   "id": "23d3ba8d-0c53-4822-b105-bbb4b72ba968",
   "metadata": {},
   "source": [
    "## 1-D Array"
   ]
  },
  {
   "cell_type": "code",
   "execution_count": 101,
   "id": "3ec3476a-2cbf-4438-9c61-5c46a1c133ef",
   "metadata": {},
   "outputs": [],
   "source": [
    "a = np.array([2, 3, 4, 5, 6])"
   ]
  },
  {
   "cell_type": "code",
   "execution_count": 102,
   "id": "9f0cac1d-6f52-402e-853e-1c1f1a3cfd88",
   "metadata": {},
   "outputs": [
    {
     "name": "stdout",
     "output_type": "stream",
     "text": [
      "1-D\n"
     ]
    }
   ],
   "source": [
    "print(f'{a.ndim}-D')"
   ]
  },
  {
   "cell_type": "code",
   "execution_count": 103,
   "id": "26105d81-3b51-45d2-9161-52902eb8465e",
   "metadata": {},
   "outputs": [
    {
     "data": {
      "text/plain": [
       "3"
      ]
     },
     "execution_count": 103,
     "metadata": {},
     "output_type": "execute_result"
    }
   ],
   "source": [
    "a[1]"
   ]
  },
  {
   "cell_type": "code",
   "execution_count": 104,
   "id": "24b16bd7-7fef-448e-bad2-914c8eb18e9f",
   "metadata": {},
   "outputs": [
    {
     "data": {
      "text/plain": [
       "(5,)"
      ]
     },
     "execution_count": 104,
     "metadata": {},
     "output_type": "execute_result"
    }
   ],
   "source": [
    "a.shape"
   ]
  },
  {
   "cell_type": "markdown",
   "id": "3150c179-90b0-47c0-93d3-2b7a8059bf50",
   "metadata": {},
   "source": [
    "## 2-D Array"
   ]
  },
  {
   "cell_type": "code",
   "execution_count": 105,
   "id": "e7d50887-258a-43c5-b38a-6237e93be3ac",
   "metadata": {},
   "outputs": [],
   "source": [
    "b = np.array([[2, 3, 4, 5, 6]])"
   ]
  },
  {
   "cell_type": "code",
   "execution_count": 106,
   "id": "e6a92253-0e38-4b00-b992-ddc8525ccbda",
   "metadata": {},
   "outputs": [
    {
     "name": "stdout",
     "output_type": "stream",
     "text": [
      "2-D\n"
     ]
    }
   ],
   "source": [
    "print(f'{b.ndim}-D')"
   ]
  },
  {
   "cell_type": "code",
   "execution_count": 107,
   "id": "640d965e-bc67-4b34-aa3f-548bf99c0668",
   "metadata": {},
   "outputs": [
    {
     "data": {
      "text/plain": [
       "array([2, 3, 4, 5, 6])"
      ]
     },
     "execution_count": 107,
     "metadata": {},
     "output_type": "execute_result"
    }
   ],
   "source": [
    "b[0]"
   ]
  },
  {
   "cell_type": "code",
   "execution_count": 108,
   "id": "6d699dcc-641e-4d37-9763-d7007ba856fc",
   "metadata": {},
   "outputs": [
    {
     "ename": "IndexError",
     "evalue": "index 1 is out of bounds for axis 0 with size 1",
     "output_type": "error",
     "traceback": [
      "\u001b[0;31m---------------------------------------------------------------------------\u001b[0m",
      "\u001b[0;31mIndexError\u001b[0m                                Traceback (most recent call last)",
      "Cell \u001b[0;32mIn[108], line 1\u001b[0m\n\u001b[0;32m----> 1\u001b[0m \u001b[43mb\u001b[49m\u001b[43m[\u001b[49m\u001b[38;5;241;43m1\u001b[39;49m\u001b[43m]\u001b[49m\n",
      "\u001b[0;31mIndexError\u001b[0m: index 1 is out of bounds for axis 0 with size 1"
     ]
    }
   ],
   "source": [
    "b[1]"
   ]
  },
  {
   "cell_type": "code",
   "execution_count": 109,
   "id": "aef90a6f-1a94-4a5e-9f2c-6b461318b2d6",
   "metadata": {},
   "outputs": [
    {
     "data": {
      "text/plain": [
       "3"
      ]
     },
     "execution_count": 109,
     "metadata": {},
     "output_type": "execute_result"
    }
   ],
   "source": [
    "b[0, 1]"
   ]
  },
  {
   "cell_type": "code",
   "execution_count": 110,
   "id": "5a1af0ce-2059-4acc-9861-824ca939d8b4",
   "metadata": {},
   "outputs": [
    {
     "data": {
      "text/plain": [
       "(1, 5)"
      ]
     },
     "execution_count": 110,
     "metadata": {},
     "output_type": "execute_result"
    }
   ],
   "source": [
    "b.shape"
   ]
  },
  {
   "cell_type": "code",
   "execution_count": 111,
   "id": "50ad9d94-6c49-4e7e-9b99-f75988e84dbb",
   "metadata": {},
   "outputs": [],
   "source": [
    "c = np.array([[2, 3, 4, 5, 6], [7, 8, 9, 10, 11]])"
   ]
  },
  {
   "cell_type": "code",
   "execution_count": 112,
   "id": "2c9e95c6-0eb2-4add-a9af-2ca6a6813e59",
   "metadata": {},
   "outputs": [
    {
     "name": "stdout",
     "output_type": "stream",
     "text": [
      "2-D\n"
     ]
    }
   ],
   "source": [
    "print(f'{c.ndim}-D')"
   ]
  },
  {
   "cell_type": "code",
   "execution_count": 113,
   "id": "271534e6-1403-4dc8-8040-03ed36a07e19",
   "metadata": {},
   "outputs": [
    {
     "data": {
      "text/plain": [
       "(2, 5)"
      ]
     },
     "execution_count": 113,
     "metadata": {},
     "output_type": "execute_result"
    }
   ],
   "source": [
    "c.shape"
   ]
  },
  {
   "cell_type": "code",
   "execution_count": 114,
   "id": "f67ecd07-d9dc-4d33-93ca-024ce07f2c1d",
   "metadata": {},
   "outputs": [],
   "source": [
    "d = np.array([[2, 3, 4, 5, 6], [7, 8, 9, 10, 11], [12, 13, 14, 15, 16]])"
   ]
  },
  {
   "cell_type": "code",
   "execution_count": 115,
   "id": "448572bc-d615-4150-b0f5-e36b80563546",
   "metadata": {},
   "outputs": [
    {
     "name": "stdout",
     "output_type": "stream",
     "text": [
      "2-D\n"
     ]
    }
   ],
   "source": [
    "print(f'{d.ndim}-D')"
   ]
  },
  {
   "cell_type": "code",
   "execution_count": 116,
   "id": "1c7399bc-8b42-4867-8a28-e08d533b1754",
   "metadata": {},
   "outputs": [
    {
     "data": {
      "text/plain": [
       "3"
      ]
     },
     "execution_count": 116,
     "metadata": {},
     "output_type": "execute_result"
    }
   ],
   "source": [
    "d[0, 1]"
   ]
  },
  {
   "cell_type": "code",
   "execution_count": 117,
   "id": "afb410bc-ab20-4bce-b8b7-0426a94005dc",
   "metadata": {},
   "outputs": [
    {
     "data": {
      "text/plain": [
       "(3, 5)"
      ]
     },
     "execution_count": 117,
     "metadata": {},
     "output_type": "execute_result"
    }
   ],
   "source": [
    "d.shape"
   ]
  },
  {
   "cell_type": "markdown",
   "id": "d699cb3c-2548-412b-8521-26e2b5eda570",
   "metadata": {},
   "source": [
    "## 3-D Array"
   ]
  },
  {
   "cell_type": "code",
   "execution_count": 60,
   "id": "f4b18195-bec8-4162-a132-ad312c155fa7",
   "metadata": {},
   "outputs": [],
   "source": [
    "h = np.array([[[1]]])"
   ]
  },
  {
   "cell_type": "code",
   "execution_count": 118,
   "id": "b88fc23b-f7c4-4372-a15d-0a477c95c533",
   "metadata": {},
   "outputs": [
    {
     "name": "stdout",
     "output_type": "stream",
     "text": [
      "3-D\n"
     ]
    }
   ],
   "source": [
    "print(f'{h.ndim}-D')"
   ]
  },
  {
   "cell_type": "code",
   "execution_count": 119,
   "id": "e0832c8e-8096-4f3a-8b26-ad650afdf390",
   "metadata": {},
   "outputs": [
    {
     "data": {
      "text/plain": [
       "1"
      ]
     },
     "execution_count": 119,
     "metadata": {},
     "output_type": "execute_result"
    }
   ],
   "source": [
    "h[0, 0, 0]"
   ]
  },
  {
   "cell_type": "code",
   "execution_count": 143,
   "id": "26f3e912-3032-4027-b918-1161b4d56a17",
   "metadata": {},
   "outputs": [],
   "source": [
    "g = np.array([[[1, 2, 3], [3, 2, 3]]])"
   ]
  },
  {
   "cell_type": "code",
   "execution_count": 144,
   "id": "b1010ce3-659d-44b5-a9bb-7d68f7045e95",
   "metadata": {},
   "outputs": [
    {
     "data": {
      "text/plain": [
       "2"
      ]
     },
     "execution_count": 144,
     "metadata": {},
     "output_type": "execute_result"
    }
   ],
   "source": [
    "g[0, 0, 1]"
   ]
  },
  {
   "cell_type": "code",
   "execution_count": 146,
   "id": "a6324898-786a-4be2-bc04-017cb22048ef",
   "metadata": {},
   "outputs": [
    {
     "data": {
      "text/plain": [
       "(1, 2, 3)"
      ]
     },
     "execution_count": 146,
     "metadata": {},
     "output_type": "execute_result"
    }
   ],
   "source": [
    "g.shape"
   ]
  },
  {
   "cell_type": "code",
   "execution_count": 147,
   "id": "510c84db-7961-4d23-b640-8a496135a860",
   "metadata": {},
   "outputs": [],
   "source": [
    "t = np.array([[[[1]]]])"
   ]
  },
  {
   "cell_type": "code",
   "execution_count": 78,
   "id": "3875d01a-bdc9-49e5-939b-3599170bb8d4",
   "metadata": {},
   "outputs": [
    {
     "data": {
      "text/plain": [
       "4"
      ]
     },
     "execution_count": 78,
     "metadata": {},
     "output_type": "execute_result"
    }
   ],
   "source": [
    "t.ndim"
   ]
  },
  {
   "cell_type": "code",
   "execution_count": 94,
   "id": "41326341-ae36-4583-97bd-a40d99c07899",
   "metadata": {},
   "outputs": [],
   "source": [
    "x1 = np.array([1, 2, 3, 4, 5])"
   ]
  },
  {
   "cell_type": "code",
   "execution_count": 95,
   "id": "fb75ce5a-eedc-4262-b8fd-8da445531f34",
   "metadata": {},
   "outputs": [],
   "source": [
    "x2 = x1"
   ]
  },
  {
   "cell_type": "code",
   "execution_count": 96,
   "id": "89ada832-1342-4e54-8fa1-a328e4a346bb",
   "metadata": {},
   "outputs": [],
   "source": [
    "x1[2] = 10"
   ]
  },
  {
   "cell_type": "code",
   "execution_count": 97,
   "id": "8b8a97b1-9548-4f3e-88b6-07027f3d4fe0",
   "metadata": {},
   "outputs": [
    {
     "data": {
      "text/plain": [
       "array([ 1,  2, 10,  4,  5])"
      ]
     },
     "execution_count": 97,
     "metadata": {},
     "output_type": "execute_result"
    }
   ],
   "source": [
    "x1"
   ]
  },
  {
   "cell_type": "code",
   "execution_count": 98,
   "id": "11b3ce3b-9bb7-4c7a-b1d6-fab0c19ae479",
   "metadata": {},
   "outputs": [
    {
     "data": {
      "text/plain": [
       "array([ 1,  2, 10,  4,  5])"
      ]
     },
     "execution_count": 98,
     "metadata": {},
     "output_type": "execute_result"
    }
   ],
   "source": [
    "x2"
   ]
  },
  {
   "cell_type": "code",
   "execution_count": 169,
   "id": "c326b829-7845-460a-a61e-5cc553a83ee3",
   "metadata": {},
   "outputs": [
    {
     "data": {
      "text/plain": [
       "array(['1', '2', '3'], dtype='<U21')"
      ]
     },
     "execution_count": 169,
     "metadata": {},
     "output_type": "execute_result"
    }
   ],
   "source": [
    "p = np.array([1, '2', 3])\n",
    "p"
   ]
  },
  {
   "cell_type": "code",
   "execution_count": 170,
   "id": "73a5274a-0d2f-4389-bce5-cd361f21e222",
   "metadata": {},
   "outputs": [],
   "source": [
    "lst = [1, 2, 3, 4, 5]"
   ]
  },
  {
   "cell_type": "code",
   "execution_count": 171,
   "id": "c2e72414-3ea7-4a2b-b114-08bf7bb047e8",
   "metadata": {},
   "outputs": [],
   "source": [
    "array = np.array(lst)"
   ]
  },
  {
   "cell_type": "code",
   "execution_count": 172,
   "id": "e19a909c-cf74-4afb-86ec-e07e9f13124d",
   "metadata": {},
   "outputs": [
    {
     "name": "stdout",
     "output_type": "stream",
     "text": [
      "<class 'list'>\n"
     ]
    }
   ],
   "source": [
    "print(type(lst))"
   ]
  },
  {
   "cell_type": "code",
   "execution_count": 173,
   "id": "a524812e-8b10-4182-b531-9f67848d8954",
   "metadata": {},
   "outputs": [
    {
     "name": "stdout",
     "output_type": "stream",
     "text": [
      "<class 'numpy.ndarray'>\n"
     ]
    }
   ],
   "source": [
    "print(type(array))"
   ]
  },
  {
   "cell_type": "code",
   "execution_count": 194,
   "id": "3d110ccc-26a0-497d-b69e-6bb41cfb6e3a",
   "metadata": {},
   "outputs": [],
   "source": [
    "lst = np.array([[[1, 2, 3], [4, 5, 6],[7, 8, 9]], [[10, 11, 12], [13, 14, 15], [16, 17, 18]]])"
   ]
  },
  {
   "cell_type": "code",
   "execution_count": 197,
   "id": "4574555b-fd93-4407-a4b2-1918dd2ba3e2",
   "metadata": {},
   "outputs": [
    {
     "data": {
      "text/plain": [
       "15"
      ]
     },
     "execution_count": 197,
     "metadata": {},
     "output_type": "execute_result"
    }
   ],
   "source": [
    "lst[1, 1, 2]"
   ]
  },
  {
   "cell_type": "code",
   "execution_count": 198,
   "id": "acef4776-63e8-45fb-b75f-c67943a71bd2",
   "metadata": {},
   "outputs": [
    {
     "data": {
      "text/plain": [
       "3"
      ]
     },
     "execution_count": 198,
     "metadata": {},
     "output_type": "execute_result"
    }
   ],
   "source": [
    "lst.ndim"
   ]
  },
  {
   "cell_type": "code",
   "execution_count": 199,
   "id": "4bb9d803-7d58-4a0d-b36a-0dc0120dc438",
   "metadata": {},
   "outputs": [
    {
     "data": {
      "text/plain": [
       "(2, 3, 3)"
      ]
     },
     "execution_count": 199,
     "metadata": {},
     "output_type": "execute_result"
    }
   ],
   "source": [
    "lst.shape"
   ]
  },
  {
   "cell_type": "code",
   "execution_count": null,
   "id": "30408944-3600-4e04-a957-03a8ac9779e8",
   "metadata": {},
   "outputs": [],
   "source": []
  }
 ],
 "metadata": {
  "kernelspec": {
   "display_name": "Python 3 (ipykernel)",
   "language": "python",
   "name": "python3"
  },
  "language_info": {
   "codemirror_mode": {
    "name": "ipython",
    "version": 3
   },
   "file_extension": ".py",
   "mimetype": "text/x-python",
   "name": "python",
   "nbconvert_exporter": "python",
   "pygments_lexer": "ipython3",
   "version": "3.11.5"
  }
 },
 "nbformat": 4,
 "nbformat_minor": 5
}
