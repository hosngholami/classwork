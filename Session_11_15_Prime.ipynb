{
 "cells": [
  {
   "cell_type": "markdown",
   "id": "a5dfd489-a607-4613-a378-077468b65d3d",
   "metadata": {},
   "source": [
    "## Get input user"
   ]
  },
  {
   "cell_type": "code",
   "execution_count": 81,
   "id": "3d957ded-6667-4546-aa30-246629aca157",
   "metadata": {},
   "outputs": [],
   "source": [
    "def user_data():\n",
    "    value = input('enter number' )\n",
    "    return value"
   ]
  },
  {
   "cell_type": "markdown",
   "id": "74006735-d1d2-42d2-aadb-7ea0acd4a3c9",
   "metadata": {},
   "source": [
    "###### Function Check Prime value"
   ]
  },
  {
   "cell_type": "code",
   "execution_count": 95,
   "id": "a8535624-4bf1-4ca3-b82a-423c165bf61b",
   "metadata": {},
   "outputs": [],
   "source": [
    "def check_prime(value:int):\n",
    "    for i in range(2, (value // 2)+1):\n",
    "        if value % i == 0:\n",
    "            return False\n",
    "    return True\n",
    "            "
   ]
  },
  {
   "cell_type": "markdown",
   "id": "0cdd070e-6cdd-4d2e-976d-7c1579501add",
   "metadata": {},
   "source": [
    "## Main"
   ]
  },
  {
   "cell_type": "code",
   "execution_count": 92,
   "id": "4154f306-2278-4745-aedd-272edb17454e",
   "metadata": {},
   "outputs": [],
   "source": [
    "def main():\n",
    "    value = int(user_data())\n",
    "    check = check_prime(value)\n",
    "    return check"
   ]
  },
  {
   "cell_type": "code",
   "execution_count": 96,
   "id": "71009dc8-667a-4718-82f2-b006ac20c1f3",
   "metadata": {},
   "outputs": [
    {
     "name": "stdin",
     "output_type": "stream",
     "text": [
      "enter number 11\n"
     ]
    },
    {
     "data": {
      "text/plain": [
       "True"
      ]
     },
     "execution_count": 96,
     "metadata": {},
     "output_type": "execute_result"
    }
   ],
   "source": [
    "main()"
   ]
  },
  {
   "cell_type": "markdown",
   "id": "7cbfcdbb-e61a-4fbc-9971-046eec2da678",
   "metadata": {},
   "source": [
    "## Prepare Data"
   ]
  },
  {
   "cell_type": "code",
   "execution_count": 121,
   "id": "a62ddc28-789b-427b-b115-4eda5f10eae5",
   "metadata": {},
   "outputs": [
    {
     "name": "stdout",
     "output_type": "stream",
     "text": [
      "hello my name is hossein\n"
     ]
    }
   ],
   "source": [
    "text = \"hello.!@@#### my name is. hossein\"\n",
    "\n",
    "list_str = list(text)\n",
    "chars = {'.', '!', '@', '#'}\n",
    "\n",
    "for i in range(len(list_str)):\n",
    "    if list_str[i] in chars:\n",
    "        list_str[i] = ''\n",
    "\n",
    "new_string = \"\".join(list_str)\n",
    "print(new_string)\n"
   ]
  },
  {
   "cell_type": "code",
   "execution_count": null,
   "id": "cd2b81ab-4fdd-4515-aaf7-5c2065a027e0",
   "metadata": {},
   "outputs": [],
   "source": []
  },
  {
   "cell_type": "markdown",
   "id": "ea6f7dc6-614a-4973-93d9-76215b7a292b",
   "metadata": {},
   "source": [
    "## Git"
   ]
  },
  {
   "cell_type": "code",
   "execution_count": null,
   "id": "9281ce53-5402-4ac9-8c1c-78ed1dfd495a",
   "metadata": {},
   "outputs": [],
   "source": [
    "git add \n",
    "git status\n",
    "git commint -m 'message\""
   ]
  }
 ],
 "metadata": {
  "kernelspec": {
   "display_name": "Python 3 (ipykernel)",
   "language": "python",
   "name": "python3"
  },
  "language_info": {
   "codemirror_mode": {
    "name": "ipython",
    "version": 3
   },
   "file_extension": ".py",
   "mimetype": "text/x-python",
   "name": "python",
   "nbconvert_exporter": "python",
   "pygments_lexer": "ipython3",
   "version": "3.11.5"
  }
 },
 "nbformat": 4,
 "nbformat_minor": 5
}
