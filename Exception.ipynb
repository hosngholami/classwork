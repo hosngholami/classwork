{
 "cells": [
  {
   "cell_type": "code",
   "execution_count": 1,
   "id": "7dafd411-a4f9-4c78-a551-e29d12b01cbd",
   "metadata": {},
   "outputs": [
    {
     "ename": "ValueError",
     "evalue": "invalid literal for int() with base 10: 'test'",
     "output_type": "error",
     "traceback": [
      "\u001b[0;31m---------------------------------------------------------------------------\u001b[0m",
      "\u001b[0;31mValueError\u001b[0m                                Traceback (most recent call last)",
      "Cell \u001b[0;32mIn[1], line 2\u001b[0m\n\u001b[1;32m      1\u001b[0m num \u001b[38;5;241m=\u001b[39m \u001b[38;5;124m\"\u001b[39m\u001b[38;5;124mtest\u001b[39m\u001b[38;5;124m\"\u001b[39m\n\u001b[0;32m----> 2\u001b[0m \u001b[38;5;28mprint\u001b[39m(\u001b[38;5;28;43mint\u001b[39;49m\u001b[43m(\u001b[49m\u001b[43mnum\u001b[49m\u001b[43m)\u001b[49m)\n",
      "\u001b[0;31mValueError\u001b[0m: invalid literal for int() with base 10: 'test'"
     ]
    }
   ],
   "source": [
    "num = \"test\"\n",
    "print(int(num))"
   ]
  },
  {
   "cell_type": "code",
   "execution_count": 11,
   "id": "4919c804-237c-431d-a687-dc84db2074de",
   "metadata": {},
   "outputs": [
    {
     "name": "stdin",
     "output_type": "stream",
     "text": [
      "please enter number 10\n"
     ]
    },
    {
     "name": "stdout",
     "output_type": "stream",
     "text": [
      "10\n",
      "[Errno 2] No such file or directory: 'test.txt'\n",
      "test\n"
     ]
    }
   ],
   "source": [
    "try:\n",
    "    num = input('please enter number')\n",
    "    print(int(num))\n",
    "\n",
    "    with open('test.txt') as file:\n",
    "        file.read()\n",
    "\n",
    "except ValueError as ve:\n",
    "    print('input is invalid')\n",
    "\n",
    "except FileNotFoundError as fnf:\n",
    "    print(fnf)\n",
    "else:\n",
    "    print('else')\n",
    "finally:\n",
    "    print('test')"
   ]
  },
  {
   "cell_type": "markdown",
   "id": "d575169b-b971-4634-8c03-96e613c3a672",
   "metadata": {},
   "source": [
    "## Custome Error"
   ]
  },
  {
   "cell_type": "code",
   "execution_count": 30,
   "id": "5069c10f-9e56-4f4f-ab3e-874d7ca9503a",
   "metadata": {},
   "outputs": [],
   "source": [
    "class MyError(Exception):\n",
    "    def __init__(self, num):\n",
    "        self.num = num\n",
    "        self.message = \"lenght can't bigger 5 \"\n",
    "        super().__init__(self.message)\n",
    "\n",
    "    def __repr__(self):\n",
    "        return f'notfound {self.num} '\n"
   ]
  },
  {
   "cell_type": "code",
   "execution_count": 33,
   "id": "3dd70bb4-d82a-447b-8d1d-9b375b316dc6",
   "metadata": {},
   "outputs": [
    {
     "name": "stdin",
     "output_type": "stream",
     "text": [
      "plase enter charater:  10000000\n"
     ]
    },
    {
     "ename": "AttributeError",
     "evalue": "'MyError' object has no attribute '__reper__'",
     "output_type": "error",
     "traceback": [
      "\u001b[0;31m---------------------------------------------------------------------------\u001b[0m",
      "\u001b[0;31mMyError\u001b[0m                                   Traceback (most recent call last)",
      "Cell \u001b[0;32mIn[33], line 5\u001b[0m\n\u001b[1;32m      4\u001b[0m     \u001b[38;5;28;01mif\u001b[39;00m \u001b[38;5;28mlen\u001b[39m(num_input) \u001b[38;5;241m>\u001b[39m \u001b[38;5;241m5\u001b[39m:\n\u001b[0;32m----> 5\u001b[0m         \u001b[38;5;28;01mraise\u001b[39;00m MyError(num_input)\n\u001b[1;32m      7\u001b[0m \u001b[38;5;28;01mexcept\u001b[39;00m MyError \u001b[38;5;28;01mas\u001b[39;00m me:\n",
      "\u001b[0;31mMyError\u001b[0m: lenght can't bigger 5 ",
      "\nDuring handling of the above exception, another exception occurred:\n",
      "\u001b[0;31mAttributeError\u001b[0m                            Traceback (most recent call last)",
      "Cell \u001b[0;32mIn[33], line 8\u001b[0m\n\u001b[1;32m      5\u001b[0m         \u001b[38;5;28;01mraise\u001b[39;00m MyError(num_input)\n\u001b[1;32m      7\u001b[0m \u001b[38;5;28;01mexcept\u001b[39;00m MyError \u001b[38;5;28;01mas\u001b[39;00m me:\n\u001b[0;32m----> 8\u001b[0m     \u001b[38;5;28mprint\u001b[39m(\u001b[43mme\u001b[49m\u001b[38;5;241;43m.\u001b[39;49m\u001b[43m__reper__\u001b[49m())\n",
      "\u001b[0;31mAttributeError\u001b[0m: 'MyError' object has no attribute '__reper__'"
     ]
    }
   ],
   "source": [
    "try:\n",
    "    num_input = input('plase enter charater: ')\n",
    "\n",
    "    if len(num_input) > 5:\n",
    "        raise MyError(num_input)\n",
    "        \n",
    "except MyError as me:\n",
    "    print(me)\n",
    "    \n",
    "    "
   ]
  },
  {
   "cell_type": "code",
   "execution_count": null,
   "id": "de53ef6d-9e6d-4a2f-ae9e-358f99b39001",
   "metadata": {},
   "outputs": [],
   "source": []
  }
 ],
 "metadata": {
  "kernelspec": {
   "display_name": "Python 3 (ipykernel)",
   "language": "python",
   "name": "python3"
  },
  "language_info": {
   "codemirror_mode": {
    "name": "ipython",
    "version": 3
   },
   "file_extension": ".py",
   "mimetype": "text/x-python",
   "name": "python",
   "nbconvert_exporter": "python",
   "pygments_lexer": "ipython3",
   "version": "3.11.5"
  }
 },
 "nbformat": 4,
 "nbformat_minor": 5
}
