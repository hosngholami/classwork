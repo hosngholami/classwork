{
 "cells": [
  {
   "cell_type": "code",
   "execution_count": 7,
   "id": "b06e3d3b-4d33-416b-9474-e0366e304218",
   "metadata": {},
   "outputs": [],
   "source": [
    "from abc import ABC, abstractclassmethod\n",
    "        "
   ]
  },
  {
   "cell_type": "code",
   "execution_count": 8,
   "id": "571223e0-2747-4202-971f-0d1591234d75",
   "metadata": {},
   "outputs": [],
   "source": [
    "class IShap():\n",
    "    @abstractclassmethod\n",
    "    def area(self,*args):\n",
    "        pass\n",
    "    @abstractclassmethod\n",
    "    def permited(self, *args):\n",
    "        pass"
   ]
  },
  {
   "cell_type": "code",
   "execution_count": 13,
   "id": "8c80e93e-0bc1-4155-b07c-e62ff6cbe9e8",
   "metadata": {},
   "outputs": [],
   "source": [
    "class Square(IShap):\n",
    "    def area(self, *args):\n",
    "        return args[0] * 4\n",
    "    def permited(self, *args):\n",
    "        return args[0] * args[0]"
   ]
  },
  {
   "cell_type": "code",
   "execution_count": 10,
   "id": "1ee44901-a729-45b0-a342-a108bbdd1c65",
   "metadata": {},
   "outputs": [],
   "source": [
    "squre = Square()"
   ]
  },
  {
   "cell_type": "code",
   "execution_count": 11,
   "id": "296f276f-ac50-48db-a2c1-715fc3f45f6d",
   "metadata": {},
   "outputs": [
    {
     "data": {
      "text/plain": [
       "8"
      ]
     },
     "execution_count": 11,
     "metadata": {},
     "output_type": "execute_result"
    }
   ],
   "source": [
    "squre.area(2,4)"
   ]
  },
  {
   "cell_type": "code",
   "execution_count": 12,
   "id": "b10afd04-03fe-4734-81c3-c6fea2fbc775",
   "metadata": {},
   "outputs": [
    {
     "data": {
      "text/plain": [
       "9"
      ]
     },
     "execution_count": 12,
     "metadata": {},
     "output_type": "execute_result"
    }
   ],
   "source": [
    "squre.permited(3,4)"
   ]
  },
  {
   "cell_type": "code",
   "execution_count": 20,
   "id": "b010ab1d-75d9-4759-b3ef-840cafa5cc74",
   "metadata": {},
   "outputs": [],
   "source": [
    "class Regtangle(IShap):\n",
    "    def area(self, *args):\n",
    "        return (2*(args[0] + args[1]))\n",
    "    def permited(self, *args):\n",
    "        return args[0] * args[1]"
   ]
  },
  {
   "cell_type": "code",
   "execution_count": 21,
   "id": "d7a7a425-4d58-4a21-a468-15c4638a9063",
   "metadata": {},
   "outputs": [
    {
     "data": {
      "text/plain": [
       "14"
      ]
     },
     "execution_count": 21,
     "metadata": {},
     "output_type": "execute_result"
    }
   ],
   "source": [
    "rectangle = Regtangle()\n",
    "rectangle.area(2,5)"
   ]
  },
  {
   "cell_type": "code",
   "execution_count": 22,
   "id": "4e8a01fa-055d-421c-8fb1-4d42abb88c65",
   "metadata": {},
   "outputs": [
    {
     "data": {
      "text/plain": [
       "10"
      ]
     },
     "execution_count": 22,
     "metadata": {},
     "output_type": "execute_result"
    }
   ],
   "source": [
    "rectangle.permited(2,5)"
   ]
  },
  {
   "cell_type": "code",
   "execution_count": null,
   "id": "9465d867-f985-4763-a55a-df2526db5984",
   "metadata": {},
   "outputs": [],
   "source": []
  }
 ],
 "metadata": {
  "kernelspec": {
   "display_name": "Python 3 (ipykernel)",
   "language": "python",
   "name": "python3"
  },
  "language_info": {
   "codemirror_mode": {
    "name": "ipython",
    "version": 3
   },
   "file_extension": ".py",
   "mimetype": "text/x-python",
   "name": "python",
   "nbconvert_exporter": "python",
   "pygments_lexer": "ipython3",
   "version": "3.11.5"
  }
 },
 "nbformat": 4,
 "nbformat_minor": 5
}
