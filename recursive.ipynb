{
 "cells": [
  {
   "cell_type": "markdown",
   "id": "6a0d5a1c-e583-4ef9-9677-8e5b8033b620",
   "metadata": {},
   "source": [
    "## Lambda"
   ]
  },
  {
   "cell_type": "markdown",
   "id": "63c0e1c7-4e63-48c0-bbed-da54c53d9d48",
   "metadata": {},
   "source": [
    "## Map"
   ]
  },
  {
   "cell_type": "code",
   "execution_count": 1,
   "id": "95022cc3-0823-4842-978e-5d380e990040",
   "metadata": {},
   "outputs": [],
   "source": [
    "def fib_dict(number, d):\n",
    "    if number in d:\n",
    "        return d[number]\n",
    "    else:\n",
    "        res = fib_dict(number-1, d) + fib_dict(number-2, d)\n",
    "        d[number] = res\n",
    "        return res\n",
    "    "
   ]
  },
  {
   "cell_type": "code",
   "execution_count": 2,
   "id": "a30ef1b3-6f6c-476b-8b6c-da7680a1696d",
   "metadata": {},
   "outputs": [],
   "source": [
    "def main():\n",
    "    user_value = int(input())\n",
    "    my_fibo_dict = {\n",
    "         1:1,\n",
    "         2:2\n",
    "    }\n",
    "    res = fib_dict(user_value, my_fibo_dict)\n",
    "    return res"
   ]
  },
  {
   "cell_type": "code",
   "execution_count": 4,
   "id": "df63306c-a027-4f2a-91cc-b1789f657981",
   "metadata": {},
   "outputs": [
    {
     "name": "stdin",
     "output_type": "stream",
     "text": [
      " 100\n"
     ]
    },
    {
     "data": {
      "text/plain": [
       "573147844013817084101"
      ]
     },
     "execution_count": 4,
     "metadata": {},
     "output_type": "execute_result"
    }
   ],
   "source": [
    "main()"
   ]
  },
  {
   "cell_type": "code",
   "execution_count": null,
   "id": "909d9767-005f-4a95-9cdc-c687e2d0028e",
   "metadata": {},
   "outputs": [],
   "source": []
  }
 ],
 "metadata": {
  "kernelspec": {
   "display_name": "Python 3 (ipykernel)",
   "language": "python",
   "name": "python3"
  },
  "language_info": {
   "codemirror_mode": {
    "name": "ipython",
    "version": 3
   },
   "file_extension": ".py",
   "mimetype": "text/x-python",
   "name": "python",
   "nbconvert_exporter": "python",
   "pygments_lexer": "ipython3",
   "version": "3.11.5"
  }
 },
 "nbformat": 4,
 "nbformat_minor": 5
}
