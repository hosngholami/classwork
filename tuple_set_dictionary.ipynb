{
 "cells": [
  {
   "cell_type": "code",
   "execution_count": 24,
   "id": "5fbb55fb-69b4-4401-845a-341651bbbc42",
   "metadata": {},
   "outputs": [],
   "source": [
    "nums = []\n",
    "for i in range(5,15):\n",
    "    nums.append(i)"
   ]
  },
  {
   "cell_type": "code",
   "execution_count": 25,
   "id": "94e57d6f-4ad8-420c-bd63-49085694ad02",
   "metadata": {},
   "outputs": [],
   "source": [
    "cube = []\n",
    "\n",
    "for num in nums:\n",
    "    cube.append((num, num ** 3))"
   ]
  },
  {
   "cell_type": "code",
   "execution_count": 26,
   "id": "ec6b7bd0-f620-4f93-92fd-a81fd1353a18",
   "metadata": {},
   "outputs": [
    {
     "name": "stdout",
     "output_type": "stream",
     "text": [
      "[(5, 125), (6, 216), (7, 343), (8, 512), (9, 729), (10, 1000), (11, 1331), (12, 1728), (13, 2197), (14, 2744)]\n"
     ]
    }
   ],
   "source": [
    "print(cube)"
   ]
  },
  {
   "cell_type": "code",
   "execution_count": 35,
   "id": "c747e25c-ae6c-4b2e-bfd7-3a5bde4893b6",
   "metadata": {},
   "outputs": [],
   "source": [
    "d = dict(cube)"
   ]
  },
  {
   "cell_type": "markdown",
   "id": "beb1f4b8-0cb4-4ed6-b149-ae5f3222f800",
   "metadata": {},
   "source": [
    "## Convert type of key in Dictionary with Set"
   ]
  },
  {
   "cell_type": "code",
   "execution_count": 28,
   "id": "b0ef1268-cd2b-4b78-86e4-44923ec49975",
   "metadata": {},
   "outputs": [],
   "source": [
    "dict1 = {str(key):value for key, value in d.items() }"
   ]
  },
  {
   "cell_type": "code",
   "execution_count": 29,
   "id": "f7ab06a2-e459-4d2b-8bfb-e86e3137c3b8",
   "metadata": {},
   "outputs": [
    {
     "name": "stdout",
     "output_type": "stream",
     "text": [
      "{'5': 125, '6': 216, '7': 343, '8': 512, '9': 729, '10': 1000, '11': 1331, '12': 1728, '13': 2197, '14': 2744}\n"
     ]
    }
   ],
   "source": [
    "print(dict1)"
   ]
  },
  {
   "cell_type": "markdown",
   "id": "08a558b7-6577-416a-a2b7-a9526d811b00",
   "metadata": {},
   "source": [
    "## Convert type of key in Dictionary with Lambda"
   ]
  },
  {
   "cell_type": "code",
   "execution_count": 33,
   "id": "e610d32e-5354-40f8-869c-cab88abdb2bb",
   "metadata": {},
   "outputs": [],
   "source": [
    "dict2 = dict(map(lambda x:(str(x[0]), x[1]) , d.items()))"
   ]
  },
  {
   "cell_type": "code",
   "execution_count": 34,
   "id": "a7f5faeb-3ae8-400f-a22e-d2cb92c7f87c",
   "metadata": {},
   "outputs": [
    {
     "name": "stdout",
     "output_type": "stream",
     "text": [
      "{'5': 125, '6': 216, '7': 343, '8': 512, '9': 729, '10': 1000, '11': 1331, '12': 1728, '13': 2197, '14': 2744}\n"
     ]
    }
   ],
   "source": [
    "print(dict2)"
   ]
  },
  {
   "cell_type": "markdown",
   "id": "9fa5d42b-c4c3-47ff-9e0b-b7dbf36c602e",
   "metadata": {},
   "source": [
    "## Convert type of key in Dictionary with ZipCode"
   ]
  },
  {
   "cell_type": "code",
   "execution_count": 36,
   "id": "7bb9e407-a58a-41b9-a18e-0e30dde883f1",
   "metadata": {},
   "outputs": [],
   "source": [
    "keys = []\n",
    "values = []\n",
    "for num in nums:\n",
    "    keys.append(num)\n",
    "    values.append(num ** 3)\n"
   ]
  },
  {
   "cell_type": "code",
   "execution_count": 63,
   "id": "ed7ff76e-e420-4147-8ffb-1988ba4740e1",
   "metadata": {},
   "outputs": [
    {
     "name": "stdout",
     "output_type": "stream",
     "text": [
      "{'5': 125, '6': 216, '7': 343, '8': 512, '9': 729, '10': 1000, '11': 1331, '12': 1728, '13': 2197, '14': 2744}\n"
     ]
    }
   ],
   "source": [
    "dict3 = {}\n",
    "for key, value in (zip(keys, values)):\n",
    "    dict3[str(key)] = value\n",
    "print(dict3)"
   ]
  },
  {
   "cell_type": "markdown",
   "id": "efd7692d-408c-4d61-8072-2f2af537af1f",
   "metadata": {},
   "source": [
    "## Change value for index with tuple"
   ]
  },
  {
   "cell_type": "code",
   "execution_count": 64,
   "id": "d0d537be-3338-4ba4-b5d9-c66352dac5ce",
   "metadata": {},
   "outputs": [],
   "source": [
    "t = (1, 2, 3, 4)"
   ]
  },
  {
   "cell_type": "code",
   "execution_count": 66,
   "id": "f7c3e1d4-03cf-4183-85d1-6f75b716bf56",
   "metadata": {},
   "outputs": [
    {
     "name": "stdout",
     "output_type": "stream",
     "text": [
      "2\n"
     ]
    }
   ],
   "source": [
    "print(t[1])"
   ]
  },
  {
   "cell_type": "code",
   "execution_count": 68,
   "id": "620b71b7-4aa1-4dcd-a576-4234741a5c7a",
   "metadata": {},
   "outputs": [],
   "source": [
    "t = list(t)"
   ]
  },
  {
   "cell_type": "code",
   "execution_count": 70,
   "id": "585c8c2c-f11a-4b7b-b8c3-986f86388efb",
   "metadata": {},
   "outputs": [],
   "source": [
    "t[0] = 10"
   ]
  },
  {
   "cell_type": "code",
   "execution_count": 71,
   "id": "6df2e857-7230-43dc-9f9a-cdbd9e9ddd05",
   "metadata": {},
   "outputs": [],
   "source": [
    "t = tuple(t)"
   ]
  },
  {
   "cell_type": "code",
   "execution_count": 72,
   "id": "79670256-a5fb-4128-b0b4-0be1c3fe05ff",
   "metadata": {},
   "outputs": [
    {
     "data": {
      "text/plain": [
       "(10, 2, 3, 4)"
      ]
     },
     "execution_count": 72,
     "metadata": {},
     "output_type": "execute_result"
    }
   ],
   "source": [
    "t"
   ]
  },
  {
   "cell_type": "markdown",
   "id": "a1b3fb74-0c68-4189-94c2-b4d862276f85",
   "metadata": {},
   "source": [
    "## Change type with key value"
   ]
  },
  {
   "cell_type": "code",
   "execution_count": 78,
   "id": "c8df7a2a-931e-4a66-8eb0-7f30a41d9a47",
   "metadata": {},
   "outputs": [
    {
     "name": "stdout",
     "output_type": "stream",
     "text": [
      "[('5', 125), ('6', 216), ('7', 343), ('8', 512), ('9', 729), ('10', 1000), ('11', 1331), ('12', 1728), ('13', 2197), ('14', 2744)]\n"
     ]
    }
   ],
   "source": [
    "key_values = []\n",
    "for i in d.keys():\n",
    "    key_values.append((str(i), d[i]))\n",
    "print(key_values)"
   ]
  },
  {
   "cell_type": "markdown",
   "id": "55d980e7-87fe-45e4-b5c7-7c03b5da1777",
   "metadata": {},
   "source": [
    "## Chage type with zip code"
   ]
  },
  {
   "cell_type": "code",
   "execution_count": 84,
   "id": "fd296681-106e-4c4a-a259-15d27e6bfdfd",
   "metadata": {},
   "outputs": [
    {
     "data": {
      "text/plain": [
       "{5: 125,\n",
       " 6: 216,\n",
       " 7: 343,\n",
       " 8: 512,\n",
       " 9: 729,\n",
       " 10: 1000,\n",
       " 11: 1331,\n",
       " 12: 1728,\n",
       " 13: 2197,\n",
       " 14: 2744}"
      ]
     },
     "execution_count": 84,
     "metadata": {},
     "output_type": "execute_result"
    }
   ],
   "source": [
    "key = list(d.keys())\n",
    "value = list(d.values())\n",
    "mapped = zip(key, value)\n",
    "dict4 = dict(mapped)\n",
    "dict4"
   ]
  },
  {
   "cell_type": "code",
   "execution_count": 88,
   "id": "72d4e74e-ab51-4418-bc74-ddd2984d5fa1",
   "metadata": {},
   "outputs": [
    {
     "name": "stdout",
     "output_type": "stream",
     "text": [
      "{1, 2, 3, 4}\n"
     ]
    }
   ],
   "source": [
    "a = {1,2,3,3,3,4}\n",
    "print(a)"
   ]
  },
  {
   "cell_type": "code",
   "execution_count": 90,
   "id": "94dac646-ec45-44d4-9881-eb35a67fddf1",
   "metadata": {},
   "outputs": [],
   "source": [
    "my_list = [1,2,3,5, 10]"
   ]
  },
  {
   "cell_type": "code",
   "execution_count": 95,
   "id": "637cfd76-b918-4ac5-8d38-c6fe3456e143",
   "metadata": {},
   "outputs": [
    {
     "data": {
      "text/plain": [
       "[10, 5, 3, 2, 1]"
      ]
     },
     "execution_count": 95,
     "metadata": {},
     "output_type": "execute_result"
    }
   ],
   "source": [
    "my_list[-1::-1]"
   ]
  },
  {
   "cell_type": "code",
   "execution_count": null,
   "id": "b2d87530-756b-480e-b8df-785c9a523aa0",
   "metadata": {},
   "outputs": [],
   "source": []
  }
 ],
 "metadata": {
  "kernelspec": {
   "display_name": "Python 3 (ipykernel)",
   "language": "python",
   "name": "python3"
  },
  "language_info": {
   "codemirror_mode": {
    "name": "ipython",
    "version": 3
   },
   "file_extension": ".py",
   "mimetype": "text/x-python",
   "name": "python",
   "nbconvert_exporter": "python",
   "pygments_lexer": "ipython3",
   "version": "3.11.5"
  }
 },
 "nbformat": 4,
 "nbformat_minor": 5
}
