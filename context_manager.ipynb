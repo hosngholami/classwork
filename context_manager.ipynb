{
 "cells": [
  {
   "cell_type": "code",
   "execution_count": 16,
   "id": "46e6af24-0f6f-4ddc-a9c0-f95991717060",
   "metadata": {},
   "outputs": [
    {
     "name": "stdout",
     "output_type": "stream",
     "text": [
      "python this test\n",
      "this is test\n"
     ]
    }
   ],
   "source": [
    "with open('my_file.txt', 'r') as fh:\n",
    "    print(fh.read())\n"
   ]
  },
  {
   "cell_type": "code",
   "execution_count": 17,
   "id": "ba93de51-dd5b-46e8-8874-93fb520d0413",
   "metadata": {},
   "outputs": [
    {
     "name": "stdout",
     "output_type": "stream",
     "text": [
      "pytho\n"
     ]
    }
   ],
   "source": [
    "with open('my_file.txt', 'r') as fh:\n",
    "    print(fh.read(5))"
   ]
  },
  {
   "cell_type": "code",
   "execution_count": 24,
   "id": "a5a12111-4e81-4a66-a29a-69076cf2b579",
   "metadata": {},
   "outputs": [
    {
     "name": "stdout",
     "output_type": "stream",
     "text": [
      "python this test\n",
      "\n"
     ]
    }
   ],
   "source": [
    "with open('my_file.txt', 'r') as fh:\n",
    "    print(fh.readline())"
   ]
  },
  {
   "cell_type": "code",
   "execution_count": null,
   "id": "678e6e77-1734-4743-b6db-f7713ea98260",
   "metadata": {},
   "outputs": [],
   "source": []
  },
  {
   "cell_type": "code",
   "execution_count": null,
   "id": "5edb1db0-d843-437c-8f9f-dcbde80db3b7",
   "metadata": {},
   "outputs": [],
   "source": []
  }
 ],
 "metadata": {
  "kernelspec": {
   "display_name": "Python 3 (ipykernel)",
   "language": "python",
   "name": "python3"
  },
  "language_info": {
   "codemirror_mode": {
    "name": "ipython",
    "version": 3
   },
   "file_extension": ".py",
   "mimetype": "text/x-python",
   "name": "python",
   "nbconvert_exporter": "python",
   "pygments_lexer": "ipython3",
   "version": "3.11.5"
  }
 },
 "nbformat": 4,
 "nbformat_minor": 5
}
