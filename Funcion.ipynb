{
 "cells": [
  {
   "cell_type": "markdown",
   "id": "62162de7-0a3b-4c5c-9347-12dded9aad31",
   "metadata": {},
   "source": [
    "## Define Function User Value"
   ]
  },
  {
   "cell_type": "code",
   "execution_count": 7,
   "id": "be484591-b8f2-4912-b909-09c96239a0c8",
   "metadata": {},
   "outputs": [],
   "source": [
    "def user_value():\n",
    "    number = input('you can more number with , ')\n",
    "    return number"
   ]
  },
  {
   "cell_type": "code",
   "execution_count": 8,
   "id": "3f7505dd-16f8-434a-8b03-e025ce42151f",
   "metadata": {},
   "outputs": [
    {
     "name": "stdin",
     "output_type": "stream",
     "text": [
      "you can more number with ,  111,1112,33,55\n"
     ]
    }
   ],
   "source": [
    "value = user_value()"
   ]
  },
  {
   "cell_type": "markdown",
   "id": "f606be95-4f78-4f1f-bc49-4b71bf21854c",
   "metadata": {},
   "source": [
    "## Define Function Prepare Data\n",
    "Split\n",
    "Tuple"
   ]
  },
  {
   "cell_type": "code",
   "execution_count": 15,
   "id": "59044231-3c3b-4ed1-b830-dcbd2419a06b",
   "metadata": {},
   "outputs": [],
   "source": [
    "def prepare_data(value):\n",
    "    list_number = []\n",
    "    value = value.replace(',', ' ')\n",
    "    value = value.split(' ')\n",
    "    \n",
    "    value = list(map(int, value))\n",
    "    print(value)\n",
    "    return value"
   ]
  },
  {
   "cell_type": "code",
   "execution_count": null,
   "id": "326e0bee-12a9-433c-a021-71b65ffe3ff2",
   "metadata": {},
   "outputs": [],
   "source": [
    "# def prepare_data(value):\n",
    "#     list_number = []\n",
    "#     value = value.split(',')\n",
    "#     for v in value:\n",
    "#         list_number.append(int(v))\n",
    "#     list_number = tuple(list_number)\n",
    "#     return list_number"
   ]
  },
  {
   "cell_type": "code",
   "execution_count": 16,
   "id": "6d7975fc-b37f-4057-9508-280f7da4b690",
   "metadata": {},
   "outputs": [
    {
     "name": "stdout",
     "output_type": "stream",
     "text": [
      "[111, 1112, 33, 55]\n",
      "[111, 1112, 33, 55]\n"
     ]
    }
   ],
   "source": [
    "print(prepare_data(value))\n"
   ]
  },
  {
   "cell_type": "markdown",
   "id": "39a27d78-c4b2-4e36-89cb-39fa2cd3ee2a",
   "metadata": {},
   "source": [
    "## Function Positional Argument"
   ]
  },
  {
   "cell_type": "code",
   "execution_count": 5,
   "id": "ad1ae445-56a4-4b1a-a2b7-3ad50a225dd3",
   "metadata": {},
   "outputs": [],
   "source": [
    "def sum(a, b):\n",
    "    return a + b\n",
    "\n",
    "sum(10, 20)"
   ]
  },
  {
   "cell_type": "code",
   "execution_count": null,
   "id": "2118e467-8449-4589-b771-02b30077c11c",
   "metadata": {},
   "outputs": [],
   "source": [
    "def sum(a,b, /):\n",
    "    return a + b"
   ]
  },
  {
   "cell_type": "markdown",
   "id": "d43cf842-2017-4d41-8fe5-a1472cb9a603",
   "metadata": {},
   "source": [
    "def sum(a,b, /):\n",
    "    pass"
   ]
  },
  {
   "cell_type": "markdown",
   "id": "b8fc0271-0232-4bbe-82dd-d9e1b23d179b",
   "metadata": {},
   "source": [
    "## Function keyw args"
   ]
  },
  {
   "cell_type": "code",
   "execution_count": null,
   "id": "58ce7e0a-da52-47e9-b537-06aebd7cd210",
   "metadata": {},
   "outputs": [],
   "source": [
    "def sum(a, b):\n",
    "    return a + b"
   ]
  },
  {
   "cell_type": "code",
   "execution_count": 7,
   "id": "6e53a90d-f03a-409e-962c-0853fade7445",
   "metadata": {},
   "outputs": [],
   "source": [
    "sum(b=10,a=20)"
   ]
  },
  {
   "cell_type": "code",
   "execution_count": null,
   "id": "80ace607-3887-4e78-bd2b-5dcc4a0dd561",
   "metadata": {},
   "outputs": [],
   "source": [
    "def sum(*, a, b):\n",
    "    return a + b"
   ]
  },
  {
   "cell_type": "markdown",
   "id": "38744c81-124c-48d7-904d-8a071b10dca0",
   "metadata": {},
   "source": [
    "## Function *Args\n"
   ]
  },
  {
   "cell_type": "code",
   "execution_count": 10,
   "id": "41a0cd54-4115-48f3-b33e-98d082e8f5b9",
   "metadata": {},
   "outputs": [],
   "source": [
    "def sum(a, b, *args):\n",
    "    print(f'a is {a}')\n",
    "    print(f'b is {b}')\n",
    "    print(f'args is {args}')"
   ]
  },
  {
   "cell_type": "code",
   "execution_count": 12,
   "id": "9efecf89-3ae1-485a-a05f-b3f9b4e36f8a",
   "metadata": {},
   "outputs": [
    {
     "name": "stdout",
     "output_type": "stream",
     "text": [
      "a is 1\n",
      "b is 2\n",
      "args is (3, 4, 5, 7, 8, 9)\n"
     ]
    }
   ],
   "source": [
    "sum(1, 2, 3, 4, 5, 7, 8, 9)"
   ]
  },
  {
   "cell_type": "markdown",
   "id": "78c31021-f6e5-41a1-8982-0a58857f12c8",
   "metadata": {},
   "source": [
    "## Function **kwargs"
   ]
  },
  {
   "cell_type": "code",
   "execution_count": 17,
   "id": "083c9afc-82aa-443b-8b2e-5f9bb787cf71",
   "metadata": {},
   "outputs": [],
   "source": [
    "def sum(a, b, **kwargs):\n",
    "    print(f'a is {a}')\n",
    "    print(f'b is {b}')\n",
    "    print(f'kwargs is {kwargs}')"
   ]
  },
  {
   "cell_type": "code",
   "execution_count": 20,
   "id": "c5005642-ac5f-4cb0-b589-3dcbf5d682cd",
   "metadata": {},
   "outputs": [
    {
     "name": "stdout",
     "output_type": "stream",
     "text": [
      "a is 1\n",
      "b is 2\n",
      "kwargs is {'c': 1, 'd': 2, 'f': 4}\n"
     ]
    }
   ],
   "source": [
    "sum(1,2, c=1, d=2, f=4)"
   ]
  },
  {
   "cell_type": "markdown",
   "id": "3340cfc8-53bd-4092-8610-b72093fd8f32",
   "metadata": {},
   "source": [
    "## Priority"
   ]
  },
  {
   "cell_type": "code",
   "execution_count": null,
   "id": "9b03dd80-8099-4206-a8cc-1c8465c30792",
   "metadata": {},
   "outputs": [],
   "source": [
    "def sum(a, b, *args, **kwargs):\n",
    "    pass"
   ]
  }
 ],
 "metadata": {
  "kernelspec": {
   "display_name": "Python 3 (ipykernel)",
   "language": "python",
   "name": "python3"
  },
  "language_info": {
   "codemirror_mode": {
    "name": "ipython",
    "version": 3
   },
   "file_extension": ".py",
   "mimetype": "text/x-python",
   "name": "python",
   "nbconvert_exporter": "python",
   "pygments_lexer": "ipython3",
   "version": "3.11.5"
  }
 },
 "nbformat": 4,
 "nbformat_minor": 5
}
